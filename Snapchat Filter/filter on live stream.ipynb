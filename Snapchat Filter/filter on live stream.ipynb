{
 "cells": [
  {
   "cell_type": "code",
   "execution_count": 1,
   "metadata": {},
   "outputs": [],
   "source": [
    "import cv2\n",
    "import numpy as np\n",
    "import matplotlib.pyplot as plt"
   ]
  },
  {
   "cell_type": "code",
   "execution_count": 2,
   "metadata": {},
   "outputs": [],
   "source": [
    "camera = cv2.VideoCapture(0)\n",
    "eyes_cascade        = cv2.CascadeClassifier('third-party/frontalEyes35x16.xml')\n",
    "nose_cascade        = cv2.CascadeClassifier('third-party/Nose18x15.xml')\n",
    "glasses             = cv2.imread('glasses.png', -1)\n",
    "mustache            = cv2.imread('mustache.png',-1)"
   ]
  },
  {
   "cell_type": "code",
   "execution_count": 3,
   "metadata": {},
   "outputs": [
    {
     "data": {
      "image/png": "[encoded data removed]",
      "text/plain": [
       "<Figure size 432x288 with 1 Axes>"
      ]
     },
     "metadata": {
      "needs_background": "light"
     },
     "output_type": "display_data"
    },
    {
     "data": {
      "image/png": "[encoded data removed]",
      "text/plain": [
       "<Figure size 432x288 with 1 Axes>"
      ]
     },
     "metadata": {
      "needs_background": "light"
     },
     "output_type": "display_data"
    }
   ],
   "source": [
    "plt.imshow(glasses)\n",
    "plt.show()\n",
    "plt.imshow(mustache)\n",
    "plt.show()"
   ]
  },
  {
   "cell_type": "code",
   "execution_count": 4,
   "metadata": {},
   "outputs": [],
   "source": [
    "while True:\n",
    "    ret,img = camera.read()\n",
    "    \n",
    "    if ret == False:\n",
    "        continue\n",
    "    \n",
    "    eyes = eyes_cascade.detectMultiScale(img,1.1,5)\n",
    "    noses = nose_cascade.detectMultiScale(img,1.1,5)\n",
    "    \n",
    "    for eye in eyes:\n",
    "        x,y,w,h = eye\n",
    "        specs = cv2.resize(glasses, (w,h))\n",
    "        spec = cv2.cvtColor(specs,cv2.COLOR_BGRA2BGR)\n",
    "        for i in range(0, h):\n",
    "            for j in range(0, w):\n",
    "                if specs[i, j][3] != 0:\n",
    "                    img[y + i, x + j] = spec[i, j]\n",
    "                    \n",
    "    for nose in noses:\n",
    "        x,y,w,h = nose\n",
    "        mush = cv2.resize(mustache, (w,h))\n",
    "        mus = cv2.cvtColor(mush,cv2.COLOR_BGRA2BGR)\n",
    "        for i in range(0, h):\n",
    "            for j in range(0, w):\n",
    "                if mush[i, j][3] != 0:\n",
    "                    img[y + i, x + j] = mus[i, j]\n",
    "                    \n",
    "    cv2.imshow(\"filter\",img)\n",
    "    key = cv2.waitKey(1) & 0xFF\n",
    "    if key==ord('q'):\n",
    "        break\n",
    "\n",
    "camera.release()\n",
    "cv2.destroyAllWindows()\n"
   ]
  },
  {
   "cell_type": "code",
   "execution_count": null,
   "metadata": {},
   "outputs": [],
   "source": [
    "\n"
   ]
  }
 ],
 "metadata": {
  "kernelspec": {
   "display_name": "Python 3",
   "language": "python",
   "name": "python3"
  },
  "language_info": {
   "codemirror_mode": {
    "name": "ipython",
    "version": 3
   },
   "file_extension": ".py",
   "mimetype": "text/x-python",
   "name": "python",
   "nbconvert_exporter": "python",
   "pygments_lexer": "ipython3",
   "version": "3.6.8"
  }
 },
 "nbformat": 4,
 "nbformat_minor": 2
}
