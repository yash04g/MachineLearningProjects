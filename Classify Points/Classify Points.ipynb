{
 "cells": [
  {
   "cell_type": "code",
   "execution_count": 1,
   "metadata": {},
   "outputs": [],
   "source": [
    "import numpy as np\n",
    "import pandas as pd\n",
    "import matplotlib.pyplot as plt"
   ]
  },
  {
   "cell_type": "code",
   "execution_count": 2,
   "metadata": {},
   "outputs": [],
   "source": [
    "X = pd.read_csv(\"./Datasets/Training Data/Logistic_X_Train.csv\").to_numpy()\n",
    "Y = pd.read_csv(\"./Datasets/Training Data/Logistic_Y_Train.csv\").to_numpy()"
   ]
  },
  {
   "cell_type": "code",
   "execution_count": 3,
   "metadata": {},
   "outputs": [
    {
     "name": "stdout",
     "output_type": "stream",
     "text": [
      "<class 'numpy.ndarray'>\n",
      "(2250, 2) (2250, 1)\n"
     ]
    }
   ],
   "source": [
    "print(type(X))\n",
    "print(X.shape,Y.shape)"
   ]
  },
  {
   "cell_type": "code",
   "execution_count": 4,
   "metadata": {},
   "outputs": [],
   "source": [
    "Xtest = pd.read_csv(\"./Datasets/Test Cases/Logistic_X_Test.csv\").to_numpy()"
   ]
  },
  {
   "cell_type": "code",
   "execution_count": 5,
   "metadata": {},
   "outputs": [
    {
     "name": "stderr",
     "output_type": "stream",
     "text": [
      "Using TensorFlow backend.\n"
     ]
    }
   ],
   "source": [
    "from keras import models\n",
    "from keras.layers import Dense"
   ]
  },
  {
   "cell_type": "code",
   "execution_count": 6,
   "metadata": {},
   "outputs": [
    {
     "name": "stdout",
     "output_type": "stream",
     "text": [
      "Model: \"sequential_1\"\n",
      "_________________________________________________________________\n",
      "Layer (type)                 Output Shape              Param #   \n",
      "=================================================================\n",
      "dense_1 (Dense)              (None, 8)                 24        \n",
      "_________________________________________________________________\n",
      "dense_2 (Dense)              (None, 6)                 54        \n",
      "_________________________________________________________________\n",
      "dense_3 (Dense)              (None, 4)                 28        \n",
      "_________________________________________________________________\n",
      "dense_4 (Dense)              (None, 1)                 5         \n",
      "=================================================================\n",
      "Total params: 111\n",
      "Trainable params: 111\n",
      "Non-trainable params: 0\n",
      "_________________________________________________________________\n"
     ]
    }
   ],
   "source": [
    "model = models.Sequential()\n",
    "model.add(Dense(8,activation='relu',input_shape=(2,)))\n",
    "model.add(Dense(6,activation='relu'))\n",
    "model.add(Dense(4,activation='relu'))\n",
    "model.add(Dense(1,activation='sigmoid'))\n",
    "model.compile(optimizer='rmsprop',loss='binary_crossentropy',metrics=[\"accuracy\"])\n",
    "model.summary()"
   ]
  },
  {
   "cell_type": "code",
   "execution_count": 7,
   "metadata": {},
   "outputs": [
    {
     "name": "stdout",
     "output_type": "stream",
     "text": [
      "Epoch 1/20\n",
      "2250/2250 [==============================] - 0s 122us/step - loss: 0.5451 - accuracy: 0.7653\n",
      "Epoch 2/20\n",
      "2250/2250 [==============================] - 0s 87us/step - loss: 0.4357 - accuracy: 0.8662\n",
      "Epoch 3/20\n",
      "2250/2250 [==============================] - 0s 91us/step - loss: 0.3881 - accuracy: 0.8729\n",
      "Epoch 4/20\n",
      "2250/2250 [==============================] - 0s 89us/step - loss: 0.3469 - accuracy: 0.8778\n",
      "Epoch 5/20\n",
      "2250/2250 [==============================] - 0s 90us/step - loss: 0.3093 - accuracy: 0.8853\n",
      "Epoch 6/20\n",
      "2250/2250 [==============================] - 0s 90us/step - loss: 0.2743 - accuracy: 0.8982\n",
      "Epoch 7/20\n",
      "2250/2250 [==============================] - 0s 91us/step - loss: 0.2347 - accuracy: 0.9151\n",
      "Epoch 8/20\n",
      "2250/2250 [==============================] - 0s 90us/step - loss: 0.1974 - accuracy: 0.9347\n",
      "Epoch 9/20\n",
      "2250/2250 [==============================] - 0s 90us/step - loss: 0.1654 - accuracy: 0.9489\n",
      "Epoch 10/20\n",
      "2250/2250 [==============================] - 0s 91us/step - loss: 0.1423 - accuracy: 0.9556\n",
      "Epoch 11/20\n",
      "2250/2250 [==============================] - 0s 90us/step - loss: 0.1244 - accuracy: 0.9587\n",
      "Epoch 12/20\n",
      "2250/2250 [==============================] - 0s 96us/step - loss: 0.1144 - accuracy: 0.9609\n",
      "Epoch 13/20\n",
      "2250/2250 [==============================] - 0s 97us/step - loss: 0.1080 - accuracy: 0.9613\n",
      "Epoch 14/20\n",
      "2250/2250 [==============================] - 0s 97us/step - loss: 0.1047 - accuracy: 0.9636\n",
      "Epoch 15/20\n",
      "2250/2250 [==============================] - 0s 91us/step - loss: 0.1022 - accuracy: 0.9671\n",
      "Epoch 16/20\n",
      "2250/2250 [==============================] - 0s 90us/step - loss: 0.0995 - accuracy: 0.9644\n",
      "Epoch 17/20\n",
      "2250/2250 [==============================] - 0s 90us/step - loss: 0.1010 - accuracy: 0.9653\n",
      "Epoch 18/20\n",
      "2250/2250 [==============================] - 0s 92us/step - loss: 0.0990 - accuracy: 0.9662\n",
      "Epoch 19/20\n",
      "2250/2250 [==============================] - 0s 91us/step - loss: 0.0993 - accuracy: 0.9649\n",
      "Epoch 20/20\n",
      "2250/2250 [==============================] - 0s 96us/step - loss: 0.0982 - accuracy: 0.9640\n"
     ]
    }
   ],
   "source": [
    "his = model.fit(X,Y,epochs=20,batch_size=8)"
   ]
  },
  {
   "cell_type": "code",
   "execution_count": 8,
   "metadata": {},
   "outputs": [],
   "source": [
    "pred = model.predict(Xtest)\n",
    "for i in range(len(pred)):\n",
    "    if pred[i]>=0.5:\n",
    "        pred[i] = 1\n",
    "    else:\n",
    "        pred[i] = 0"
   ]
  },
  {
   "cell_type": "code",
   "execution_count": 9,
   "metadata": {},
   "outputs": [
    {
     "name": "stdout",
     "output_type": "stream",
     "text": [
      "<class 'numpy.ndarray'>\n"
     ]
    }
   ],
   "source": [
    "print(type(pred))"
   ]
  },
  {
   "cell_type": "code",
   "execution_count": 10,
   "metadata": {},
   "outputs": [],
   "source": [
    "Y_pred = pd.DataFrame(pred,columns=[\"label\"])\n",
    "Y_pred.to_csv(\"sol.csv\",index=False)"
   ]
  },
  {
   "cell_type": "code",
   "execution_count": null,
   "metadata": {},
   "outputs": [],
   "source": []
  }
 ],
 "metadata": {
  "kernelspec": {
   "display_name": "Python 3",
   "language": "python",
   "name": "python3"
  },
  "language_info": {
   "codemirror_mode": {
    "name": "ipython",
    "version": 3
   },
   "file_extension": ".py",
   "mimetype": "text/x-python",
   "name": "python",
   "nbconvert_exporter": "python",
   "pygments_lexer": "ipython3",
   "version": "3.7.4"
  }
 },
 "nbformat": 4,
 "nbformat_minor": 2
}
